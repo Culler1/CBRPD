{
 "cells": [
  {
   "cell_type": "markdown",
   "metadata": {},
   "source": [
    "# [Police spending, New Britain Borough and the Central Bucks Regional Police Department](https://bit.ly/2M4sxEa).\n",
    "### The Bucks County Courier Times used a mix of data from the Pennsylvania Department of Community and Economic Development and 911 data from Bucks County for this story.\n",
    "### This general data analysis is made possible through several Right to Know Law requests to the Bucks County Department of Emergency Communications and the use of a computer programming language called Python.\n",
    "### In an effort to show our work, this Jupyter Notebook will walk through some of the steps taken to clean and analyze this data. "
   ]
  },
  {
   "cell_type": "code",
   "execution_count": 46,
   "metadata": {},
   "outputs": [],
   "source": [
    "# Python uses different libraries for different tasks.\n",
    "# Pandas is a very popular library for statistical analysis and handling data in a tabular format\n",
    "import pandas as pd"
   ]
  },
  {
   "cell_type": "code",
   "execution_count": 47,
   "metadata": {},
   "outputs": [
    {
     "name": "stdout",
     "output_type": "stream",
     "text": [
      "                 towns        date  total_time ems_call\n",
      "0       falls township  2012-01-01        33.0   Police\n",
      "1  morrisville borough  2012-01-01         7.0   Police\n",
      "2  middletown township  2012-01-01         5.0   Police\n",
      "3    bensalem township  2012-01-01        11.0   Police\n",
      "4  warminster township  2012-01-01         8.0   Police\n",
      "                            towns        date  total_time ems_call\n",
      "3387697       middletown township  2018-10-31         4.0   Police\n",
      "3387698         bensalem township  2018-10-31        65.0   Police\n",
      "3387699       middletown township  2018-10-31        19.0   Police\n",
      "3387700  upper makefield township  2018-10-31        10.0   Police\n",
      "3387701         bensalem township  2018-10-31        11.0   Police\n"
     ]
    }
   ],
   "source": [
    "#The 911 dispatch data base contains more than 3.7 million calls handled by the \n",
    "#Bucks County 911 center; aka \"The Radio Room\"\n",
    "#We will use an abridged version of that entire database to show the data here.\n",
    "calls1=pd.read_csv(\"abridged_calls.csv\")\n",
    "print(calls1.head())\n",
    "print(calls1.tail())\n",
    "#allcalls=pd.read_csv(\"main_calls_1.csv\")"
   ]
  },
  {
   "cell_type": "markdown",
   "metadata": {},
   "source": [
    "### The 911 database is not a complete account of everything police departments handle throughout any given day, but it does include a little more information than what might be typically considered an \"emergency call.\"\n",
    "### This analysis was looking specifically at police spending in Chalfont, Doylestown and New Britain boroughs, so we focused primarily on call volume."
   ]
  },
  {
   "cell_type": "code",
   "execution_count": 48,
   "metadata": {},
   "outputs": [],
   "source": [
    "#matplotlib is a good library to plot basic charts.\n",
    "import matplotlib\n",
    "import matplotlib.pyplot as plt\n",
    "%matplotlib inline"
   ]
  },
  {
   "cell_type": "code",
   "execution_count": 49,
   "metadata": {},
   "outputs": [
    {
     "name": "stdout",
     "output_type": "stream",
     "text": [
      "doylestown borough     61942\n",
      "chalfont borough       16042\n",
      "new britain borough    13256\n",
      "Name: towns, dtype: int64\n"
     ]
    },
    {
     "data": {
      "text/plain": [
       "<matplotlib.axes._subplots.AxesSubplot at 0x11866fb38>"
      ]
     },
     "execution_count": 49,
     "metadata": {},
     "output_type": "execute_result"
    },
    {
     "data": {
      "image/png": "[encoded data removed]",
      "text/plain": [
       "<Figure size 432x288 with 1 Axes>"
      ]
     },
     "metadata": {
      "needs_background": "light"
     },
     "output_type": "display_data"
    }
   ],
   "source": [
    "towns1=['doylestown borough','new britain borough','chalfont borough']\n",
    "print(calls1[calls1.towns.isin(towns1)].towns.value_counts())\n",
    "calls1[calls1.towns.isin(towns1)].towns.value_counts().plot(kind='bar')"
   ]
  },
  {
   "cell_type": "markdown",
   "metadata": {},
   "source": [
    "### In total, we can see that more nearly 62,000 calls were logged in Doylestown Borough, while 13,256 were logged in New Britain Borough.\n",
    "### That's a total of all calls between 2012 and most of 2018. We used the date column to assign the year column to further break the data into more managable chunks. "
   ]
  },
  {
   "cell_type": "markdown",
   "metadata": {},
   "source": [
    "# DCED 5-year Estimates\n",
    "### Estimating police spending was a little more complicated. The story is focused on these three communities, but rising police costs are not something only affecting these specific towns. Going through every municipality's budget documents wasn't feasible, but there was some potentially useful information on the DCED's [Municipal Statistics website](http://munstats.pa.gov/public/) that helped fill in these gaps.\n",
    "### A financial data section includes Excel spreadsheets of statewide municipal financial data as recent as 2017 and as far back as 2006."
   ]
  },
  {
   "cell_type": "code",
   "execution_count": 63,
   "metadata": {},
   "outputs": [],
   "source": [
    "finance17=pd.read_csv('finance_17.csv')\n",
    "finance06=pd.read_csv('finance_06.csv')"
   ]
  },
  {
   "cell_type": "code",
   "execution_count": 64,
   "metadata": {},
   "outputs": [
    {
     "data": {
      "text/html": [
       "<div>\n",
       "<style scoped>\n",
       "    .dataframe tbody tr th:only-of-type {\n",
       "        vertical-align: middle;\n",
       "    }\n",
       "\n",
       "    .dataframe tbody tr th {\n",
       "        vertical-align: top;\n",
       "    }\n",
       "\n",
       "    .dataframe thead th {\n",
       "        text-align: right;\n",
       "    }\n",
       "</style>\n",
       "<table border=\"1\" class=\"dataframe\">\n",
       "  <thead>\n",
       "    <tr style=\"text-align: right;\">\n",
       "      <th></th>\n",
       "      <th>Municipality Name</th>\n",
       "      <th>County Name</th>\n",
       "      <th>Reporting Year</th>\n",
       "      <th>Police Expenditures</th>\n",
       "      <th>Total Revenues</th>\n",
       "    </tr>\n",
       "  </thead>\n",
       "  <tbody>\n",
       "    <tr>\n",
       "      <th>0</th>\n",
       "      <td>ABBOTTSTOWN BORO</td>\n",
       "      <td>ADAMS</td>\n",
       "      <td>2006</td>\n",
       "      <td>88890</td>\n",
       "      <td>211355</td>\n",
       "    </tr>\n",
       "    <tr>\n",
       "      <th>1</th>\n",
       "      <td>ARENDTSVILLE BORO</td>\n",
       "      <td>ADAMS</td>\n",
       "      <td>2006</td>\n",
       "      <td>0</td>\n",
       "      <td>835138</td>\n",
       "    </tr>\n",
       "    <tr>\n",
       "      <th>2</th>\n",
       "      <td>BENDERSVILLE BORO</td>\n",
       "      <td>ADAMS</td>\n",
       "      <td>2006</td>\n",
       "      <td>16271</td>\n",
       "      <td>300440</td>\n",
       "    </tr>\n",
       "    <tr>\n",
       "      <th>3</th>\n",
       "      <td>BERWICK TWP</td>\n",
       "      <td>ADAMS</td>\n",
       "      <td>2006</td>\n",
       "      <td>212410</td>\n",
       "      <td>1339515</td>\n",
       "    </tr>\n",
       "    <tr>\n",
       "      <th>4</th>\n",
       "      <td>BIGLERVILLE BORO</td>\n",
       "      <td>ADAMS</td>\n",
       "      <td>2006</td>\n",
       "      <td>108897</td>\n",
       "      <td>947183</td>\n",
       "    </tr>\n",
       "  </tbody>\n",
       "</table>\n",
       "</div>"
      ],
      "text/plain": [
       "   Municipality Name County Name  Reporting Year  Police Expenditures  \\\n",
       "0   ABBOTTSTOWN BORO       ADAMS            2006                88890   \n",
       "1  ARENDTSVILLE BORO       ADAMS            2006                    0   \n",
       "2  BENDERSVILLE BORO       ADAMS            2006                16271   \n",
       "3        BERWICK TWP       ADAMS            2006               212410   \n",
       "4   BIGLERVILLE BORO       ADAMS            2006               108897   \n",
       "\n",
       "   Total Revenues  \n",
       "0          211355  \n",
       "1          835138  \n",
       "2          300440  \n",
       "3         1339515  \n",
       "4          947183  "
      ]
     },
     "execution_count": 64,
     "metadata": {},
     "output_type": "execute_result"
    }
   ],
   "source": [
    "finance06[[\"Municipality Name\",'County Name','Reporting Year','Police Expenditures','Total Revenues']].head()"
   ]
  },
  {
   "cell_type": "code",
   "execution_count": 65,
   "metadata": {},
   "outputs": [
    {
     "data": {
      "text/html": [
       "<div>\n",
       "<style scoped>\n",
       "    .dataframe tbody tr th:only-of-type {\n",
       "        vertical-align: middle;\n",
       "    }\n",
       "\n",
       "    .dataframe tbody tr th {\n",
       "        vertical-align: top;\n",
       "    }\n",
       "\n",
       "    .dataframe thead th {\n",
       "        text-align: right;\n",
       "    }\n",
       "</style>\n",
       "<table border=\"1\" class=\"dataframe\">\n",
       "  <thead>\n",
       "    <tr style=\"text-align: right;\">\n",
       "      <th></th>\n",
       "      <th>Municipality Name</th>\n",
       "      <th>County Name</th>\n",
       "      <th>Reporting Year</th>\n",
       "      <th>Police Expenditures</th>\n",
       "      <th>Total Revenues</th>\n",
       "    </tr>\n",
       "  </thead>\n",
       "  <tbody>\n",
       "    <tr>\n",
       "      <th>0</th>\n",
       "      <td>ABBOTTSTOWN BORO</td>\n",
       "      <td>ADAMS</td>\n",
       "      <td>2017</td>\n",
       "      <td>0</td>\n",
       "      <td>313496</td>\n",
       "    </tr>\n",
       "    <tr>\n",
       "      <th>1</th>\n",
       "      <td>ARENDTSVILLE BORO</td>\n",
       "      <td>ADAMS</td>\n",
       "      <td>2017</td>\n",
       "      <td>0</td>\n",
       "      <td>562004</td>\n",
       "    </tr>\n",
       "    <tr>\n",
       "      <th>2</th>\n",
       "      <td>BENDERSVILLE BORO</td>\n",
       "      <td>ADAMS</td>\n",
       "      <td>2017</td>\n",
       "      <td>32220</td>\n",
       "      <td>200688</td>\n",
       "    </tr>\n",
       "    <tr>\n",
       "      <th>3</th>\n",
       "      <td>BERWICK TWP</td>\n",
       "      <td>ADAMS</td>\n",
       "      <td>2017</td>\n",
       "      <td>0</td>\n",
       "      <td>1123380</td>\n",
       "    </tr>\n",
       "    <tr>\n",
       "      <th>4</th>\n",
       "      <td>BIGLERVILLE BORO</td>\n",
       "      <td>ADAMS</td>\n",
       "      <td>2017</td>\n",
       "      <td>146449</td>\n",
       "      <td>1363588</td>\n",
       "    </tr>\n",
       "  </tbody>\n",
       "</table>\n",
       "</div>"
      ],
      "text/plain": [
       "   Municipality Name County Name  Reporting Year  Police Expenditures  \\\n",
       "0   ABBOTTSTOWN BORO       ADAMS            2017                    0   \n",
       "1  ARENDTSVILLE BORO       ADAMS            2017                    0   \n",
       "2  BENDERSVILLE BORO       ADAMS            2017                32220   \n",
       "3        BERWICK TWP       ADAMS            2017                    0   \n",
       "4   BIGLERVILLE BORO       ADAMS            2017               146449   \n",
       "\n",
       "   Total Revenues  \n",
       "0          313496  \n",
       "1          562004  \n",
       "2          200688  \n",
       "3         1123380  \n",
       "4         1363588  "
      ]
     },
     "execution_count": 65,
     "metadata": {},
     "output_type": "execute_result"
    }
   ],
   "source": [
    "finance17[[\"Municipality Name\",'County Name','Reporting Year','Police Expenditures','Total Revenues']].head()"
   ]
  },
  {
   "cell_type": "markdown",
   "metadata": {},
   "source": [
    "### The next steps basically consist of finding the average totals for each municipality over a five year span, then creating a new dataframe that consisted only of the 5-year averages (which now ran between 2010 and 2017).\n",
    "### Combining those average totals for revenues, total calls, total calls times and even 5-year population estimates from the U.S. Census, a full Bucks County police spending dataframe was created."
   ]
  },
  {
   "cell_type": "code",
   "execution_count": 66,
   "metadata": {},
   "outputs": [],
   "source": [
    "analyis_file=pd.read_csv(\"Analyis_File_July_15.csv\")"
   ]
  },
  {
   "cell_type": "code",
   "execution_count": 67,
   "metadata": {},
   "outputs": [
    {
     "data": {
      "text/html": [
       "<div>\n",
       "<style scoped>\n",
       "    .dataframe tbody tr th:only-of-type {\n",
       "        vertical-align: middle;\n",
       "    }\n",
       "\n",
       "    .dataframe tbody tr th {\n",
       "        vertical-align: top;\n",
       "    }\n",
       "\n",
       "    .dataframe thead th {\n",
       "        text-align: right;\n",
       "    }\n",
       "</style>\n",
       "<table border=\"1\" class=\"dataframe\">\n",
       "  <thead>\n",
       "    <tr style=\"text-align: right;\">\n",
       "      <th></th>\n",
       "      <th>total_calls</th>\n",
       "      <th>town_year</th>\n",
       "      <th>total_time</th>\n",
       "      <th>muni</th>\n",
       "      <th>year</th>\n",
       "      <th>A_PS</th>\n",
       "      <th>pop_est</th>\n",
       "      <th>t_rev</th>\n",
       "      <th>t_tax</th>\n",
       "      <th>r_tax</th>\n",
       "    </tr>\n",
       "  </thead>\n",
       "  <tbody>\n",
       "    <tr>\n",
       "      <th>0</th>\n",
       "      <td>50178.0</td>\n",
       "      <td>bensalem township 2012</td>\n",
       "      <td>1689087.0</td>\n",
       "      <td>bensalem township</td>\n",
       "      <td>2012</td>\n",
       "      <td>22026390.6</td>\n",
       "      <td>60451</td>\n",
       "      <td>49775602.2</td>\n",
       "      <td>16245474.2</td>\n",
       "      <td>11548500.8</td>\n",
       "    </tr>\n",
       "    <tr>\n",
       "      <th>1</th>\n",
       "      <td>46027.0</td>\n",
       "      <td>bristol township 2012</td>\n",
       "      <td>1373679.0</td>\n",
       "      <td>bristol township</td>\n",
       "      <td>2012</td>\n",
       "      <td>12415615.2</td>\n",
       "      <td>54691</td>\n",
       "      <td>41613200.0</td>\n",
       "      <td>20832388.2</td>\n",
       "      <td>13253509.6</td>\n",
       "    </tr>\n",
       "    <tr>\n",
       "      <th>2</th>\n",
       "      <td>31756.0</td>\n",
       "      <td>middletown township 2012</td>\n",
       "      <td>872945.0</td>\n",
       "      <td>middletown township</td>\n",
       "      <td>2012</td>\n",
       "      <td>9097715.0</td>\n",
       "      <td>45477</td>\n",
       "      <td>34042635.6</td>\n",
       "      <td>13223590.0</td>\n",
       "      <td>8806927.8</td>\n",
       "    </tr>\n",
       "    <tr>\n",
       "      <th>3</th>\n",
       "      <td>25584.0</td>\n",
       "      <td>falls township 2012</td>\n",
       "      <td>985940.0</td>\n",
       "      <td>falls township</td>\n",
       "      <td>2012</td>\n",
       "      <td>9187103.6</td>\n",
       "      <td>34367</td>\n",
       "      <td>30925622.2</td>\n",
       "      <td>3219740.6</td>\n",
       "      <td>2299377.2</td>\n",
       "    </tr>\n",
       "    <tr>\n",
       "      <th>4</th>\n",
       "      <td>24790.0</td>\n",
       "      <td>warminster township 2012</td>\n",
       "      <td>663852.0</td>\n",
       "      <td>warminster township</td>\n",
       "      <td>2012</td>\n",
       "      <td>7021603.4</td>\n",
       "      <td>32691</td>\n",
       "      <td>23371518.0</td>\n",
       "      <td>10661879.2</td>\n",
       "      <td>4808437.0</td>\n",
       "    </tr>\n",
       "  </tbody>\n",
       "</table>\n",
       "</div>"
      ],
      "text/plain": [
       "   total_calls                 town_year  total_time                 muni  \\\n",
       "0      50178.0    bensalem township 2012   1689087.0    bensalem township   \n",
       "1      46027.0     bristol township 2012   1373679.0     bristol township   \n",
       "2      31756.0  middletown township 2012    872945.0  middletown township   \n",
       "3      25584.0       falls township 2012    985940.0       falls township   \n",
       "4      24790.0  warminster township 2012    663852.0  warminster township   \n",
       "\n",
       "   year        A_PS  pop_est       t_rev       t_tax       r_tax  \n",
       "0  2012  22026390.6    60451  49775602.2  16245474.2  11548500.8  \n",
       "1  2012  12415615.2    54691  41613200.0  20832388.2  13253509.6  \n",
       "2  2012   9097715.0    45477  34042635.6  13223590.0   8806927.8  \n",
       "3  2012   9187103.6    34367  30925622.2   3219740.6   2299377.2  \n",
       "4  2012   7021603.4    32691  23371518.0  10661879.2   4808437.0  "
      ]
     },
     "execution_count": 67,
     "metadata": {},
     "output_type": "execute_result"
    }
   ],
   "source": [
    "analyis_file.head()"
   ]
  },
  {
   "cell_type": "markdown",
   "metadata": {},
   "source": [
    "### From these various data sources, we could now perform a broad analysis on average police spending and calls dispatched in the Central Bucks Regional Police Department coverage area and Bucks County at large."
   ]
  },
  {
   "cell_type": "code",
   "execution_count": 68,
   "metadata": {},
   "outputs": [
    {
     "data": {
      "text/plain": [
       "<matplotlib.axes._subplots.AxesSubplot at 0x124fa49e8>"
      ]
     },
     "execution_count": 68,
     "metadata": {},
     "output_type": "execute_result"
    },
    {
     "data": {
      "image/png": "[encoded data removed]",
      "text/plain": [
       "<Figure size 432x288 with 1 Axes>"
      ]
     },
     "metadata": {
      "needs_background": "light"
     },
     "output_type": "display_data"
    }
   ],
   "source": [
    "analyis_file[(analyis_file.muni.isin(towns1))&(analyis_file.year>2011)].groupby(['muni','year']).total_calls.sum().plot(kind='bar')"
   ]
  },
  {
   "cell_type": "code",
   "execution_count": 69,
   "metadata": {},
   "outputs": [
    {
     "data": {
      "text/plain": [
       "<matplotlib.axes._subplots.AxesSubplot at 0x117700c18>"
      ]
     },
     "execution_count": 69,
     "metadata": {},
     "output_type": "execute_result"
    },
    {
     "data": {
      "image/png": "[encoded data removed]",
      "text/plain": [
       "<Figure size 432x288 with 1 Axes>"
      ]
     },
     "metadata": {
      "needs_background": "light"
     },
     "output_type": "display_data"
    }
   ],
   "source": [
    "analyis_file[analyis_file.muni.isin(towns1)].groupby(['muni','year']).A_PS.sum().plot(kind='bar')"
   ]
  }
 ],
 "metadata": {
  "kernelspec": {
   "display_name": "Python 3",
   "language": "python",
   "name": "python3"
  },
  "language_info": {
   "codemirror_mode": {
    "name": "ipython",
    "version": 3
   },
   "file_extension": ".py",
   "mimetype": "text/x-python",
   "name": "python",
   "nbconvert_exporter": "python",
   "pygments_lexer": "ipython3",
   "version": "3.6.5"
  }
 },
 "nbformat": 4,
 "nbformat_minor": 2
}
